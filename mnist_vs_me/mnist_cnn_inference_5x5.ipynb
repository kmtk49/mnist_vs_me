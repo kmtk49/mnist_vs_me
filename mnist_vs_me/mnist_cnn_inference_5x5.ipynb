{
 "cells": [
  {
   "cell_type": "code",
   "execution_count": 3,
   "metadata": {},
   "outputs": [
    {
     "name": "stdout",
     "output_type": "stream",
     "text": [
      "----------\n",
      "./tegaki/9.png\n",
      "4\n",
      "----------\n",
      "----------\n",
      "./tegaki/3.png\n",
      "3\n",
      "----------\n",
      "----------\n",
      "./tegaki/2.png\n",
      "2\n",
      "----------\n",
      "----------\n",
      "./tegaki/6.png\n",
      "6\n",
      "----------\n",
      "----------\n",
      "./tegaki/5.png\n",
      "5\n",
      "----------\n",
      "----------\n",
      "./tegaki/7.png\n",
      "1\n",
      "----------\n",
      "----------\n",
      "./tegaki/1.png\n",
      "1\n",
      "----------\n",
      "----------\n",
      "./tegaki/4.png\n",
      "4\n",
      "----------\n",
      "----------\n",
      "./tegaki/8.png\n",
      "5\n",
      "----------\n"
     ]
    }
   ],
   "source": [
    "# coding:utf-8\n",
    "\n",
    "import keras\n",
    "import numpy as np\n",
    "from keras.models import load_model\n",
    "from keras.preprocessing.image import array_to_img, img_to_array,load_img\n",
    "import os\n",
    "import re\n",
    "\n",
    "model = load_model('mnist_model_5x5.h5')\n",
    "\n",
    "def list_pictures(directory, ext='jpg|jpeg|bmp|png|ppm'):\n",
    "    return [os.path.join(root, f)\n",
    "            for root, _, files in os.walk(directory) for f in files\n",
    "            if re.match(r'([\\w]+\\.(?:' + ext + '))', f.lower())]\n",
    "\n",
    "for picture in list_pictures('./tegaki/'):\n",
    "    X = []\n",
    "    img = img_to_array(\n",
    "        load_img(picture, target_size=(28, 28), grayscale=True))\n",
    "    X.append(img)\n",
    "\n",
    "    X = np.asarray(X)\n",
    "    X = X.astype('float32')\n",
    "    X = X / 255.0\n",
    "\n",
    "    features = model.predict(X)\n",
    "\n",
    "    print('----------')\n",
    "    print(picture)\n",
    "    print(features.argmax())\n",
    "    print('----------')"
   ]
  },
  {
   "cell_type": "code",
   "execution_count": null,
   "metadata": {},
   "outputs": [],
   "source": []
  },
  {
   "cell_type": "code",
   "execution_count": null,
   "metadata": {},
   "outputs": [],
   "source": []
  }
 ],
 "metadata": {
  "kernelspec": {
   "display_name": "Python 3",
   "language": "python",
   "name": "python3"
  },
  "language_info": {
   "codemirror_mode": {
    "name": "ipython",
    "version": 3
   },
   "file_extension": ".py",
   "mimetype": "text/x-python",
   "name": "python",
   "nbconvert_exporter": "python",
   "pygments_lexer": "ipython3",
   "version": "3.6.8"
  }
 },
 "nbformat": 4,
 "nbformat_minor": 2
}
